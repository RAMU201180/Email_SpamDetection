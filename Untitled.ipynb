{
 "cells": [
  {
   "cell_type": "code",
   "execution_count": null,
   "id": "4ced3a29-672a-498a-a3c3-a9a0ace04403",
   "metadata": {},
   "outputs": [],
   "source": [
    "import pickle\n",
    "\n",
    "# Load the saved model and vectorizer\n",
    "with open('spam_classifier_complete.pkl', 'rb') as file:\n",
    "    model_info = pickle.load(file)\n",
    "\n",
    "model = model_info['model']\n",
    "vectorizer = model_info['vectorizer']\n",
    "\n",
    "def predict_spam(message):\n",
    "    # Preprocess the input message\n",
    "    features = vectorizer.transform([message])\n",
    "    \n",
    "    # Make prediction\n",
    "    prediction = model.predict(features)\n",
    "    \n",
    "    # Return result\n",
    "    return \"SPAM MAIL\" if prediction[0] == 0 else \"HAM MAIL\"\n",
    "\n",
    "# Test the function\n",
    "while True:\n",
    "    user_input = input(\"Enter an email message (or 'quit' to exit): \")\n",
    "    if user_input.lower() == 'quit':\n",
    "        break\n",
    "    result = predict_spam(user_input)\n",
    "    print(f\"Prediction: {result}\\n\")"
   ]
  },
  {
   "cell_type": "code",
   "execution_count": null,
   "id": "9425782f-e8e3-4efd-95c0-39e1e3520297",
   "metadata": {},
   "outputs": [],
   "source": []
  }
 ],
 "metadata": {
  "kernelspec": {
   "display_name": "Python 3 (ipykernel)",
   "language": "python",
   "name": "python3"
  },
  "language_info": {
   "codemirror_mode": {
    "name": "ipython",
    "version": 3
   },
   "file_extension": ".py",
   "mimetype": "text/x-python",
   "name": "python",
   "nbconvert_exporter": "python",
   "pygments_lexer": "ipython3",
   "version": "3.11.7"
  }
 },
 "nbformat": 4,
 "nbformat_minor": 5
}
